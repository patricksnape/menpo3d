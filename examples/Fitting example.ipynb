{
 "cells": [
  {
   "cell_type": "markdown",
   "metadata": {},
   "source": [
    "This is an example of how to use the implementation to fit the BFM to an image (in the images folder) \n",
    "using the hybrid method and without illumination parameters.\n",
    "\n",
    "Dependencies:\n",
    "    - menpo, menpodetect, menpo3d (master), menpofit, menpowidgets\n",
    "    - BFM shape and texture pickle files: 'shape_PCAModel.pkl' and 'texture_PCAModel.pkl'\n",
    "    - BFM landmarks: 'template.LJSON'"
   ]
  },
  {
   "cell_type": "code",
   "execution_count": null,
   "metadata": {
    "collapsed": true
   },
   "outputs": [],
   "source": [
    "from menpo3d.morphablemodel import ColouredMorphableModel\n",
    "from menpo3d.morphablemodel.fitter import MMFitter\n",
    "from menpo3d.morphablemodel.detectandfit import detect_and_fit\n",
    "\n",
    "from matplotlib import pyplot as plt\n",
    "import menpo.io as mio\n",
    "import menpo3d.io as m3io\n",
    "from pathlib import Path\n",
    "\n",
    "\n",
    "def plot_error(errors):\n",
    "    plt.plot(errors)\n",
    "    plt.ylabel('Error')\n",
    "    plt.show()\n",
    "    \n",
    "    \n",
    "def load_img_and_find_landmarks(img_path):\n",
    "    img = mio.import_image(img_path)\n",
    "    detect_and_fit(img)\n",
    "    inital_shape = img.landmarks['ibug68'].lms\n",
    "    return img, inital_shape\n",
    "\n",
    "\n",
    "# Import the model\n",
    "# './shape_PCAModel.pkl' is the path to the shape PCA model\n",
    "# './texture_PCAModel.pkl' is the path to the texture PCA model\n",
    "# './template.LJSON' is the path to the model landmarks\n",
    "def init_mm_from_file(shape_path, texture_path, landmarks_path=None):\n",
    "        shape = mio.import_pickle(shape_path)\n",
    "        texture = mio.import_pickle(texture_path)\n",
    "        if landmarks_path is not None:\n",
    "            landmarks = m3io.import_landmark_file(landmarks_path).lms\n",
    "        else:\n",
    "            landmarks = None\n",
    "        return ColouredMorphableModel(shape, texture, landmarks)"
   ]
  },
  {
   "cell_type": "code",
   "execution_count": null,
   "metadata": {
    "collapsed": false
   },
   "outputs": [],
   "source": [
    "root = Path('/Users/jab08/Dropbox/shared/loubna/')\n",
    "model = init_mm_from_file(root  / 'shape_PCAModel.pkl', \n",
    "                          root / 'texture_PCAModel.pkl', \n",
    "                          root / 'template.LJSON')\n",
    "\n",
    "\n",
    "# Create a fitter for the model\n",
    "fitter = MMFitter(model)"
   ]
  },
  {
   "cell_type": "code",
   "execution_count": null,
   "metadata": {
    "collapsed": false
   },
   "outputs": [],
   "source": [
    "image_name = 'C2_039'\n",
    "img, initial_shape = load_img_and_find_landmarks('./images/'+ image_name +'.jpg')"
   ]
  },
  {
   "cell_type": "code",
   "execution_count": null,
   "metadata": {
    "collapsed": false
   },
   "outputs": [],
   "source": [
    "# Do the fitting\n",
    "%matplotlib inline\n",
    "x = fitter.fit_from_shape(img, initial_shape, n_alphas=100, n_betas=100, n_tris=1000, max_iters=50)"
   ]
  },
  {
   "cell_type": "code",
   "execution_count": null,
   "metadata": {
    "collapsed": false
   },
   "outputs": [],
   "source": [
    "# Visualise the result\n",
    "%matplotlib inline\n",
    "img.view()\n",
    "x['rasterized_result'].view(new_figure=True)"
   ]
  },
  {
   "cell_type": "code",
   "execution_count": null,
   "metadata": {
    "collapsed": false
   },
   "outputs": [],
   "source": [
    "# Plot the error\n",
    "%matplotlib inline\n",
    "plot_error(x['errors'])"
   ]
  },
  {
   "cell_type": "code",
   "execution_count": null,
   "metadata": {
    "collapsed": false
   },
   "outputs": [],
   "source": [
    "print(x.keys())"
   ]
  }
 ],
 "metadata": {
  "kernelspec": {
   "display_name": "Python 2",
   "language": "python",
   "name": "python2"
  },
  "language_info": {
   "codemirror_mode": {
    "name": "ipython",
    "version": 2
   },
   "file_extension": ".py",
   "mimetype": "text/x-python",
   "name": "python",
   "nbconvert_exporter": "python",
   "pygments_lexer": "ipython2",
   "version": "2.7.11"
  }
 },
 "nbformat": 4,
 "nbformat_minor": 0
}
